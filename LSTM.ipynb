{
  "cells": [
    {
      "cell_type": "markdown",
      "metadata": {
        "id": "view-in-github",
        "colab_type": "text"
      },
      "source": [
        "<a href=\"https://colab.research.google.com/github/ShehapAltahawy59/NLP/blob/main/LSTM.ipynb\" target=\"_parent\"><img src=\"https://colab.research.google.com/assets/colab-badge.svg\" alt=\"Open In Colab\"/></a>"
      ]
    },
    {
      "cell_type": "markdown",
      "id": "6bdb2236",
      "metadata": {
        "id": "6bdb2236"
      },
      "source": [
        "# RNN - LSTM"
      ]
    },
    {
      "cell_type": "markdown",
      "id": "9d7644b2",
      "metadata": {
        "id": "9d7644b2"
      },
      "source": [
        "## LSTM"
      ]
    },
    {
      "cell_type": "markdown",
      "id": "5d4d05e0",
      "metadata": {
        "id": "5d4d05e0"
      },
      "source": [
        "1. choose a dataset\n",
        "2. download and check the shape of the dataset\n",
        "4. clean the data if needed (hint: regex)\n",
        "5. decide the tokenization strategy (word , character , sub character)\n",
        "6. build the vocab\n",
        "7. build a wrapper around the dataset\n",
        "8. dataloader -> train[0] (input,label)\n",
        "9. Build network architecture\n",
        "10. Training loop\n",
        "11. evaluate\n"
      ]
    },
    {
      "cell_type": "code",
      "execution_count": 7,
      "id": "94398a55",
      "metadata": {
        "colab": {
          "base_uri": "https://localhost:8080/"
        },
        "id": "94398a55",
        "outputId": "f318fd04-1d40-4677-c8df-bcc5a4907485"
      },
      "outputs": [
        {
          "output_type": "stream",
          "name": "stderr",
          "text": [
            "[nltk_data] Downloading package punkt_tab to /root/nltk_data...\n",
            "[nltk_data]   Unzipping tokenizers/punkt_tab.zip.\n"
          ]
        },
        {
          "output_type": "stream",
          "name": "stdout",
          "text": [
            "Libraries imported successfully!\n"
          ]
        }
      ],
      "source": [
        "# -----------------------\n",
        "import torch\n",
        "import torch.nn as nn\n",
        "import torch.optim as optim\n",
        "from torch.utils.data import Dataset, DataLoader\n",
        "import numpy as np\n",
        "import pandas as pd\n",
        "import matplotlib.pyplot as plt\n",
        "from sklearn.model_selection import train_test_split\n",
        "from tqdm import tqdm\n",
        "from collections import Counter\n",
        "import re\n",
        "\n",
        "# For text preprocessing\n",
        "import nltk\n",
        "from nltk.tokenize import word_tokenize\n",
        "nltk.download('punkt_tab')\n",
        "\n",
        "# For loading datasets\n",
        "from datasets import load_dataset\n",
        "\n",
        "# Set random seed for reproducibility\n",
        "torch.manual_seed(42)\n",
        "np.random.seed(42)\n",
        "\n",
        "print(\"Libraries imported successfully!\")"
      ]
    },
    {
      "cell_type": "code",
      "execution_count": 8,
      "id": "c05864d1",
      "metadata": {
        "colab": {
          "base_uri": "https://localhost:8080/"
        },
        "id": "c05864d1",
        "outputId": "7401962e-2b67-410b-df02-5e7c87a208a0"
      },
      "outputs": [
        {
          "output_type": "stream",
          "name": "stdout",
          "text": [
            "Dataset loaded! Total training examples: 25000\n",
            "Sample review (text): I rented I AM CURIOUS-YELLOW from my video store because of all the controversy that surrounded it w...\n",
            "Sample label (0=negative, 1=positive): 0\n"
          ]
        }
      ],
      "source": [
        "from datasets import load_dataset\n",
        "\n",
        "# Download the dataset\n",
        "dataset = load_dataset(\"imdb\")\n",
        "\n",
        "# Get train and test data\n",
        "train_data = dataset[\"train\"]\n",
        "test_data = dataset[\"test\"]\n",
        "\n",
        "# Display sample data\n",
        "print(f\"Dataset loaded! Total training examples: {len(train_data)}\")\n",
        "print(f\"Sample review (text): {train_data[0]['text'][:100]}...\")\n",
        "print(f\"Sample label (0=negative, 1=positive): {train_data[0]['label']}\")\n"
      ]
    },
    {
      "cell_type": "code",
      "execution_count": 9,
      "id": "a19999ac",
      "metadata": {
        "colab": {
          "base_uri": "https://localhost:8080/"
        },
        "id": "a19999ac",
        "outputId": "ca33e615-fad7-40c4-815f-332f792913fc"
      },
      "outputs": [
        {
          "output_type": "stream",
          "name": "stderr",
          "text": [
            "100%|██████████| 25000/25000 [00:18<00:00, 1367.78it/s]\n",
            "100%|██████████| 25000/25000 [00:23<00:00, 1058.97it/s]"
          ]
        },
        {
          "output_type": "stream",
          "name": "stdout",
          "text": [
            "Data preprocessing complete! Example tokenized review: ['i', 'rented', 'i', 'am', 'curiousyellow', 'from', 'my', 'video', 'store', 'because', 'of', 'all', 'the', 'controversy', 'that']...\n",
            "Data preprocessing complete! Example tokenized label: 0...\n"
          ]
        },
        {
          "output_type": "stream",
          "name": "stderr",
          "text": [
            "\n"
          ]
        }
      ],
      "source": [
        "def preprocess_text(text):\n",
        "    \"\"\"Clean and tokenize the text\"\"\"\n",
        "    # Convert to lowercase\n",
        "    text = text.lower()\n",
        "    # Remove HTML tags\n",
        "    text = re.sub(r'<.*?>', '', text)\n",
        "    # Remove special characters and digits\n",
        "    text = re.sub(r'[^a-zA-Z\\s]', '', text)\n",
        "    # Tokenize\n",
        "    tokens = word_tokenize(text)\n",
        "    return tokens\n",
        "\n",
        "# Process training data\n",
        "train_reviews = []\n",
        "train_labels = []\n",
        "\n",
        "for sample in tqdm(train_data):\n",
        "    # Labels are already integers (0=negative, 1=positive)\n",
        "    label_int = sample['label']\n",
        "    train_labels.append(label_int)\n",
        "    # Preprocess text\n",
        "    tokens = preprocess_text(sample['text'])\n",
        "    train_reviews.append(tokens)\n",
        "\n",
        "# Process test data\n",
        "test_reviews = []\n",
        "test_labels = []\n",
        "\n",
        "for sample in tqdm(test_data):\n",
        "    label_int = sample['label']\n",
        "    test_labels.append(label_int)\n",
        "    tokens = preprocess_text(sample['text'])\n",
        "    test_reviews.append(tokens)\n",
        "\n",
        "print(f\"Data preprocessing complete! Example tokenized review: {train_reviews[0][:15]}...\")\n",
        "print(f\"Data preprocessing complete! Example tokenized label: {train_labels[0]}...\")\n"
      ]
    },
    {
      "cell_type": "code",
      "execution_count": 10,
      "id": "e766b8f1",
      "metadata": {
        "colab": {
          "base_uri": "https://localhost:8080/"
        },
        "id": "e766b8f1",
        "outputId": "4bc388bd-d3d0-4810-9d00-eb04b3c241b0"
      },
      "outputs": [
        {
          "output_type": "stream",
          "name": "stdout",
          "text": [
            "Vocabulary created with 10000 words!\n",
            "Sample words: [('the', 2), ('and', 3), ('a', 4), ('of', 5), ('to', 6), ('is', 7), ('in', 8), ('it', 9), ('this', 10), ('i', 11)]\n"
          ]
        }
      ],
      "source": [
        "def build_vocab(reviews, max_words=10000):\n",
        "    \"\"\"Build a vocabulary of the most common words\"\"\"\n",
        "    word_count = Counter()\n",
        "\n",
        "    # Count all words\n",
        "    for review in reviews:\n",
        "        word_count.update(review)\n",
        "\n",
        "    # Select most common words\n",
        "    most_common = word_count.most_common(max_words - 2)  # -2 for <UNK> and <PAD>\n",
        "    vocab = {word: idx+2 for idx, (word, _) in enumerate(most_common)}\n",
        "\n",
        "    # Add special tokens\n",
        "    vocab['<PAD>'] = 0\n",
        "    vocab['<UNK>'] = 1\n",
        "\n",
        "    return vocab\n",
        "\n",
        "# Build vocabulary from training data\n",
        "vocab = build_vocab(train_reviews)\n",
        "vocab_size = len(vocab)\n",
        "\n",
        "print(f\"Vocabulary created with {vocab_size} words!\")\n",
        "print(f\"Sample words: {list(vocab.items())[:10]}\")\n",
        "\n",
        "# Create a reverse mapping for decoding\n",
        "idx_to_word = {idx: word for word, idx in vocab.items()}\n"
      ]
    },
    {
      "cell_type": "markdown",
      "id": "32fe5602",
      "metadata": {
        "id": "32fe5602"
      },
      "source": [
        "What should be the maximum length of my sequence aka review ??"
      ]
    },
    {
      "cell_type": "code",
      "execution_count": 11,
      "id": "9da70e5b",
      "metadata": {
        "colab": {
          "base_uri": "https://localhost:8080/",
          "height": 755
        },
        "id": "9da70e5b",
        "outputId": "e651b814-857b-4857-b36d-5d50ca5a71fe"
      },
      "outputs": [
        {
          "output_type": "stream",
          "name": "stdout",
          "text": [
            "Maximum review length: 2441\n",
            "Mean review length: 227.81\n",
            "Median review length: 170.0\n",
            "95th percentile length: 583.0\n"
          ]
        },
        {
          "output_type": "display_data",
          "data": {
            "text/plain": [
              "<Figure size 1000x600 with 1 Axes>"
            ],
            "image/png": "[encoded data removed]"
          },
          "metadata": {}
        },
        {
          "output_type": "stream",
          "name": "stdout",
          "text": [
            "Chosen max_len: 583\n"
          ]
        },
        {
          "output_type": "stream",
          "name": "stderr",
          "text": [
            "100%|██████████| 25000/25000 [00:00<00:00, 25314.23it/s]\n",
            "100%|██████████| 25000/25000 [00:01<00:00, 16274.55it/s]\n"
          ]
        },
        {
          "output_type": "stream",
          "name": "stdout",
          "text": [
            "Data encoding complete! Example sequence: tensor([  11, 1511,   11,  237,    1,   36,   59,  390, 1132,   78,    5,   31,\n",
            "           2, 6947,   12])...\n",
            "All sequences are now of length 583\n",
            "Reviews truncated: 1245 (4.98%)\n"
          ]
        }
      ],
      "source": [
        "# Analyze review lengths to determine optimal max_len\n",
        "review_lengths = [len(review) for review in train_reviews]\n",
        "max_review_length = max(review_lengths)\n",
        "mean_length = np.mean(review_lengths)\n",
        "median_length = np.median(review_lengths)\n",
        "p95_length = np.percentile(review_lengths, 95)\n",
        "\n",
        "print(f\"Maximum review length: {max_review_length}\")\n",
        "print(f\"Mean review length: {mean_length:.2f}\")\n",
        "print(f\"Median review length: {median_length}\")\n",
        "print(f\"95th percentile length: {p95_length}\")\n",
        "\n",
        "# Plotting the distribution of review lengths\n",
        "plt.figure(figsize=(10, 6))\n",
        "plt.hist(review_lengths, bins=50)\n",
        "plt.axvline(x=max_review_length, color='r', linestyle='--', label=f'Max: {max_review_length}')\n",
        "plt.axvline(x=p95_length, color='g', linestyle='--', label=f'95th: {p95_length:.0f}')\n",
        "plt.axvline(x=median_length, color='b', linestyle='--', label=f'Median: {median_length}')\n",
        "plt.title(\"Distribution of Review Lengths\")\n",
        "plt.xlabel(\"Length (number of tokens)\")\n",
        "plt.ylabel(\"Count\")\n",
        "plt.legend()\n",
        "plt.grid(True, alpha=0.3)\n",
        "plt.show()\n",
        "\n",
        "# Choose max_len based on 95th percentile to avoid excessive padding\n",
        "# while still covering most reviews without truncation\n",
        "chosen_max_len = int(p95_length)\n",
        "print(f\"Chosen max_len: {chosen_max_len}\")\n",
        "\n",
        "def encode_review(review, vocab, max_len=None):\n",
        "    \"\"\"Convert a review to a fixed-length sequence of integers\"\"\"\n",
        "    # Use the chosen max_len from analysis if none provided\n",
        "    if max_len is None:\n",
        "        max_len = chosen_max_len\n",
        "\n",
        "    # Encode words, use <UNK> for unknown words\n",
        "    encoded = [vocab.get(word, vocab['<UNK>']) for word in review[:max_len]]\n",
        "\n",
        "    # Pad sequences to the same length\n",
        "    if len(encoded) < max_len:\n",
        "        encoded += [vocab['<PAD>']] * (max_len - len(encoded))\n",
        "\n",
        "    return encoded\n",
        "\n",
        "# Encode all reviews using the dynamically determined max_len\n",
        "train_encoded = [encode_review(review, vocab) for review in tqdm(train_reviews)]\n",
        "test_encoded = [encode_review(review, vocab) for review in tqdm(test_reviews)]\n",
        "\n",
        "# Convert to tensors\n",
        "train_sequences = torch.tensor(train_encoded, dtype=torch.long)\n",
        "train_labels_tensor = torch.tensor(train_labels, dtype=torch.float)\n",
        "test_sequences = torch.tensor(test_encoded, dtype=torch.long)\n",
        "test_labels_tensor = torch.tensor(test_labels, dtype=torch.float)\n",
        "\n",
        "print(f\"Data encoding complete! Example sequence: {train_sequences[0][:15]}...\")\n",
        "print(f\"All sequences are now of length {chosen_max_len}\")\n",
        "\n",
        "# Calculate how many reviews were truncated\n",
        "truncated_count = sum(1 for length in review_lengths if length > chosen_max_len)\n",
        "truncated_percentage = (truncated_count / len(review_lengths)) * 100\n",
        "print(f\"Reviews truncated: {truncated_count} ({truncated_percentage:.2f}%)\")\n"
      ]
    },
    {
      "cell_type": "code",
      "execution_count": 12,
      "id": "0b3c6929",
      "metadata": {
        "colab": {
          "base_uri": "https://localhost:8080/"
        },
        "id": "0b3c6929",
        "outputId": "836323f0-29cd-4495-9252-6b75e5fdb113"
      },
      "outputs": [
        {
          "output_type": "stream",
          "name": "stderr",
          "text": [
            "100%|██████████| 25000/25000 [00:00<00:00, 39311.88it/s]\n",
            "100%|██████████| 25000/25000 [00:01<00:00, 20990.60it/s]\n"
          ]
        },
        {
          "output_type": "stream",
          "name": "stdout",
          "text": [
            "Data encoding complete! Example sequence: tensor([  11, 1511,   11,  237,    1,   36,   59,  390, 1132,   78,    5,   31,\n",
            "           2, 6947,   12])...\n"
          ]
        }
      ],
      "source": [
        "def encode_review(review, vocab, max_len=200):\n",
        "    \"\"\"Convert a review to a fixed-length sequence of integers\"\"\"\n",
        "    # Encode words, use <UNK> for unknown words\n",
        "    encoded = [vocab.get(word, vocab['<UNK>']) for word in review[:max_len]]\n",
        "\n",
        "    # Pad sequences to the same length\n",
        "    if len(encoded) < max_len:\n",
        "        encoded += [vocab['<PAD>']] * (max_len - len(encoded))\n",
        "\n",
        "    return encoded\n",
        "\n",
        "# Encode all reviews\n",
        "train_encoded = [encode_review(review, vocab) for review in tqdm(train_reviews)]\n",
        "test_encoded = [encode_review(review, vocab) for review in tqdm(test_reviews)]\n",
        "\n",
        "# Convert to tensors\n",
        "train_sequences = torch.tensor(train_encoded, dtype=torch.long)\n",
        "train_labels_tensor = torch.tensor(train_labels, dtype=torch.float)\n",
        "test_sequences = torch.tensor(test_encoded, dtype=torch.long)\n",
        "test_labels_tensor = torch.tensor(test_labels, dtype=torch.float)\n",
        "\n",
        "print(f\"Data encoding complete! Example sequence: {train_sequences[0][:15]}...\")\n"
      ]
    },
    {
      "cell_type": "code",
      "execution_count": 13,
      "id": "a1e8d0db",
      "metadata": {
        "colab": {
          "base_uri": "https://localhost:8080/"
        },
        "id": "a1e8d0db",
        "outputId": "25a9892c-c8f1-4a41-fa34-0cbdc9bad5b0"
      },
      "outputs": [
        {
          "output_type": "stream",
          "name": "stdout",
          "text": [
            "DataLoaders created! Training batches: 352\n"
          ]
        }
      ],
      "source": [
        "class IMDbDataset(Dataset):\n",
        "    def __init__(self, sequences, labels):\n",
        "        self.sequences = sequences\n",
        "        self.labels = labels\n",
        "\n",
        "    def __len__(self):\n",
        "        return len(self.sequences)\n",
        "\n",
        "    def __getitem__(self, idx):\n",
        "        return self.sequences[idx], self.labels[idx]\n",
        "\n",
        "# Create train/validation split\n",
        "train_seq, val_seq, train_labels, val_labels = train_test_split(\n",
        "    train_sequences, train_labels_tensor, test_size=0.1, random_state=42\n",
        ")\n",
        "\n",
        "# Create datasets\n",
        "train_dataset = IMDbDataset(train_seq, train_labels)\n",
        "val_dataset = IMDbDataset(val_seq, val_labels)\n",
        "test_dataset = IMDbDataset(test_sequences, test_labels_tensor)\n",
        "\n",
        "# Create dataloaders\n",
        "batch_size = 64\n",
        "train_loader = DataLoader(train_dataset, batch_size=batch_size, shuffle=True)\n",
        "val_loader = DataLoader(val_dataset, batch_size=batch_size)\n",
        "test_loader = DataLoader(test_dataset, batch_size=batch_size)\n",
        "\n",
        "print(f\"DataLoaders created! Training batches: {len(train_loader)}\")\n"
      ]
    },
    {
      "cell_type": "code",
      "execution_count": 54,
      "id": "9bf1355b",
      "metadata": {
        "colab": {
          "base_uri": "https://localhost:8080/"
        },
        "id": "9bf1355b",
        "outputId": "3cef236b-cdc6-4701-9e5e-a37e3d99b084"
      },
      "outputs": [
        {
          "output_type": "stream",
          "name": "stdout",
          "text": [
            "Model created and moved to cuda!\n",
            "SentimentLSTM(\n",
            "  (embedding): Embedding(10000, 100, padding_idx=0)\n",
            "  (lstm): LSTM(100, 256, num_layers=2, batch_first=True, dropout=0.5)\n",
            "  (dropout): Dropout(p=0.5, inplace=False)\n",
            "  (fc): Linear(in_features=256, out_features=1, bias=True)\n",
            ")\n"
          ]
        }
      ],
      "source": [
        "class SentimentLSTM(nn.Module):\n",
        "    def __init__(self, vocab_size, embedding_dim, hidden_dim, output_dim, n_layers=1,bidirectional=False, dropout=0.5):\n",
        "        super().__init__()\n",
        "\n",
        "        # Embedding layer\n",
        "        self.embedding = nn.Embedding(vocab_size, embedding_dim, padding_idx=0)\n",
        "\n",
        "        # LSTM layer\n",
        "        self.lstm = nn.LSTM(embedding_dim,\n",
        "                        hidden_dim,\n",
        "                        num_layers=n_layers,\n",
        "                        bidirectional=bidirectional,\n",
        "                        dropout=dropout if n_layers > 1 else 0,\n",
        "                        batch_first=True)\n",
        "\n",
        "        # Dropout layer\n",
        "        self.dropout = nn.Dropout(dropout)\n",
        "\n",
        "        # Fully connected layer\n",
        "        self.fc = nn.Linear(hidden_dim * 2 if bidirectional else hidden_dim, output_dim)\n",
        "\n",
        "    def forward(self, text):\n",
        "        # text shape: [batch_size, seq_len]\n",
        "        # Embed the text\n",
        "        embedded = self.embedding(text)  # [batch_size, seq_len, embedding_dim]\n",
        "\n",
        "        # Pass through LSTM\n",
        "        lstm_out, (hidden, cell) = self.lstm(embedded)\n",
        "        # hidden shape: [n_layers, batch_size, hidden_dim]\n",
        "        if self.lstm.bidirectional:\n",
        "            hidden = torch.cat((hidden[-2, :, :], hidden[-1, :, :]), dim=1)  # Concatenate forward and backward\n",
        "        else:\n",
        "            hidden = hidden[-1, :, :]\n",
        "        # Use the final hidden state\n",
        "        hidden = self.dropout(hidden)  # [batch_size, hidden_dim]\n",
        "\n",
        "        # Pass through linear layer\n",
        "        return self.fc(hidden)  # [batch_size, output_dim]\n",
        "\n",
        "# Initialize model\n",
        "embedding_dim = 100\n",
        "hidden_dim = 256\n",
        "output_dim = 1\n",
        "n_layers = 2\n",
        "\n",
        "model = SentimentLSTM(\n",
        "    vocab_size=vocab_size,\n",
        "    embedding_dim=embedding_dim,\n",
        "    hidden_dim=hidden_dim,\n",
        "    output_dim=output_dim,\n",
        "    n_layers=n_layers,\n",
        "    bidirectional=False\n",
        ")\n",
        "\n",
        "# Move model to GPU if available\n",
        "device = torch.device('cuda' if torch.cuda.is_available() else 'cpu')\n",
        "model = model.to(device)\n",
        "print(f\"Model created and moved to {device}!\")\n",
        "print(model)"
      ]
    },
    {
      "cell_type": "code",
      "execution_count": 39,
      "id": "f569f559",
      "metadata": {
        "colab": {
          "base_uri": "https://localhost:8080/"
        },
        "id": "f569f559",
        "outputId": "f87c6218-3b51-4e5d-b39e-d339a22820bd"
      },
      "outputs": [
        {
          "output_type": "stream",
          "name": "stdout",
          "text": [
            "Loss function and optimizer defined!\n"
          ]
        }
      ],
      "source": [
        "# Binary Cross Entropy Loss\n",
        "criterion = nn.BCEWithLogitsLoss()\n",
        "\n",
        "# Adam optimizer\n",
        "optimizer = optim.Adam(model.parameters(), lr=0.001)\n",
        "\n",
        "print(\"Loss function and optimizer defined!\")"
      ]
    },
    {
      "cell_type": "code",
      "execution_count": 17,
      "id": "fb9a7f8d",
      "metadata": {
        "id": "fb9a7f8d"
      },
      "outputs": [],
      "source": [
        "def train(model, iterator, optimizer, criterion):\n",
        "    \"\"\"Training function for one epoch\"\"\"\n",
        "    # Set model to training mode\n",
        "    model.train()\n",
        "\n",
        "    # Track loss\n",
        "    epoch_loss = 0\n",
        "    epoch_acc = 0\n",
        "\n",
        "    # Iterate over batches\n",
        "    for batch in tqdm(iterator, desc=\"Training\"):\n",
        "        # Get batch data\n",
        "        text, labels = batch\n",
        "        text, labels = text.to(device), labels.to(device)\n",
        "\n",
        "        # Zero gradients\n",
        "        optimizer.zero_grad()\n",
        "\n",
        "        # Forward pass\n",
        "        predictions = model(text).squeeze(1)\n",
        "\n",
        "        # Calculate loss\n",
        "        loss = criterion(predictions, labels)\n",
        "\n",
        "        # Calculate accuracy\n",
        "        predicted_classes = torch.round(torch.sigmoid(predictions))\n",
        "        correct = (predicted_classes == labels).float()\n",
        "        accuracy = correct.sum() / len(correct)\n",
        "\n",
        "        # Backward pass\n",
        "        loss.backward()\n",
        "\n",
        "        # Update parameters\n",
        "        optimizer.step()\n",
        "\n",
        "        # Update metrics\n",
        "        epoch_loss += loss.item()\n",
        "        epoch_acc += accuracy.item()\n",
        "\n",
        "    # Return average loss and accuracy\n",
        "    return epoch_loss / len(iterator), epoch_acc / len(iterator)\n"
      ]
    },
    {
      "cell_type": "code",
      "execution_count": 18,
      "id": "dffd9f3d",
      "metadata": {
        "id": "dffd9f3d"
      },
      "outputs": [],
      "source": [
        "def evaluate(model, iterator, criterion):\n",
        "    \"\"\"Evaluation function\"\"\"\n",
        "    # Set model to evaluation mode\n",
        "    model.eval()\n",
        "\n",
        "    # Track loss\n",
        "    epoch_loss = 0\n",
        "    epoch_acc = 0\n",
        "\n",
        "    # No gradients needed for evaluation\n",
        "    with torch.no_grad():\n",
        "        # Iterate over batches\n",
        "        for batch in tqdm(iterator, desc=\"Evaluating\"):\n",
        "            # Get batch data\n",
        "            text, labels = batch\n",
        "            text, labels = text.to(device), labels.to(device)\n",
        "\n",
        "            # Forward pass\n",
        "            predictions = model(text).squeeze(1)\n",
        "\n",
        "            # Calculate loss\n",
        "            loss = criterion(predictions, labels)\n",
        "\n",
        "            # Calculate accuracy\n",
        "            predicted_classes = torch.round(torch.sigmoid(predictions))\n",
        "            correct = (predicted_classes == labels).float()\n",
        "            accuracy = correct.sum() / len(correct)\n",
        "\n",
        "            # Update metrics\n",
        "            epoch_loss += loss.item()\n",
        "            epoch_acc += accuracy.item()\n",
        "\n",
        "    # Return average loss and accuracy\n",
        "    return epoch_loss / len(iterator), epoch_acc / len(iterator)\n"
      ]
    },
    {
      "cell_type": "code",
      "execution_count": 40,
      "id": "29851811",
      "metadata": {
        "colab": {
          "base_uri": "https://localhost:8080/"
        },
        "id": "29851811",
        "outputId": "bc3c91a4-ed8b-4cdb-b567-a17c8ff71aad"
      },
      "outputs": [
        {
          "output_type": "stream",
          "name": "stdout",
          "text": [
            "\n",
            "Epoch 1/10\n",
            "--------------------\n"
          ]
        },
        {
          "output_type": "stream",
          "name": "stderr",
          "text": [
            "Training: 100%|██████████| 352/352 [00:12<00:00, 27.66it/s]\n",
            "Evaluating: 100%|██████████| 40/40 [00:00<00:00, 73.11it/s]\n"
          ]
        },
        {
          "output_type": "stream",
          "name": "stdout",
          "text": [
            "Train Loss: 0.6923 | Train Acc: 51.48%\n",
            "Val Loss: 0.6913 | Val Acc: 50.04%\n",
            "\n",
            "Epoch 2/10\n",
            "--------------------\n"
          ]
        },
        {
          "output_type": "stream",
          "name": "stderr",
          "text": [
            "Training: 100%|██████████| 352/352 [00:13<00:00, 26.76it/s]\n",
            "Evaluating: 100%|██████████| 40/40 [00:00<00:00, 59.26it/s]\n"
          ]
        },
        {
          "output_type": "stream",
          "name": "stdout",
          "text": [
            "Train Loss: 0.6851 | Train Acc: 53.77%\n",
            "Val Loss: 0.6935 | Val Acc: 48.83%\n",
            "\n",
            "Epoch 3/10\n",
            "--------------------\n"
          ]
        },
        {
          "output_type": "stream",
          "name": "stderr",
          "text": [
            "Training: 100%|██████████| 352/352 [00:12<00:00, 27.54it/s]\n",
            "Evaluating: 100%|██████████| 40/40 [00:00<00:00, 74.28it/s]\n"
          ]
        },
        {
          "output_type": "stream",
          "name": "stdout",
          "text": [
            "Train Loss: 0.6936 | Train Acc: 50.58%\n",
            "Val Loss: 0.6924 | Val Acc: 50.23%\n",
            "\n",
            "Epoch 4/10\n",
            "--------------------\n"
          ]
        },
        {
          "output_type": "stream",
          "name": "stderr",
          "text": [
            "Training: 100%|██████████| 352/352 [00:12<00:00, 28.15it/s]\n",
            "Evaluating: 100%|██████████| 40/40 [00:00<00:00, 75.37it/s]\n"
          ]
        },
        {
          "output_type": "stream",
          "name": "stdout",
          "text": [
            "Train Loss: 0.6857 | Train Acc: 53.94%\n",
            "Val Loss: 0.6304 | Val Acc: 67.73%\n",
            "\n",
            "Epoch 5/10\n",
            "--------------------\n"
          ]
        },
        {
          "output_type": "stream",
          "name": "stderr",
          "text": [
            "Training: 100%|██████████| 352/352 [00:12<00:00, 28.36it/s]\n",
            "Evaluating: 100%|██████████| 40/40 [00:00<00:00, 74.45it/s]\n"
          ]
        },
        {
          "output_type": "stream",
          "name": "stdout",
          "text": [
            "Train Loss: 0.5760 | Train Acc: 70.61%\n",
            "Val Loss: 0.4762 | Val Acc: 78.98%\n",
            "\n",
            "Epoch 6/10\n",
            "--------------------\n"
          ]
        },
        {
          "output_type": "stream",
          "name": "stderr",
          "text": [
            "Training: 100%|██████████| 352/352 [00:12<00:00, 28.41it/s]\n",
            "Evaluating: 100%|██████████| 40/40 [00:00<00:00, 73.01it/s]\n"
          ]
        },
        {
          "output_type": "stream",
          "name": "stdout",
          "text": [
            "Train Loss: 0.4590 | Train Acc: 77.20%\n",
            "Val Loss: 0.4039 | Val Acc: 82.46%\n",
            "\n",
            "Epoch 7/10\n",
            "--------------------\n"
          ]
        },
        {
          "output_type": "stream",
          "name": "stderr",
          "text": [
            "Training: 100%|██████████| 352/352 [00:12<00:00, 28.24it/s]\n",
            "Evaluating: 100%|██████████| 40/40 [00:00<00:00, 75.36it/s]\n"
          ]
        },
        {
          "output_type": "stream",
          "name": "stdout",
          "text": [
            "Train Loss: 0.3710 | Train Acc: 84.84%\n",
            "Val Loss: 0.4131 | Val Acc: 81.95%\n",
            "\n",
            "Epoch 8/10\n",
            "--------------------\n"
          ]
        },
        {
          "output_type": "stream",
          "name": "stderr",
          "text": [
            "Training: 100%|██████████| 352/352 [00:12<00:00, 28.10it/s]\n",
            "Evaluating: 100%|██████████| 40/40 [00:00<00:00, 74.60it/s]\n"
          ]
        },
        {
          "output_type": "stream",
          "name": "stdout",
          "text": [
            "Train Loss: 0.3085 | Train Acc: 87.76%\n",
            "Val Loss: 0.3962 | Val Acc: 82.46%\n",
            "\n",
            "Epoch 9/10\n",
            "--------------------\n"
          ]
        },
        {
          "output_type": "stream",
          "name": "stderr",
          "text": [
            "Training: 100%|██████████| 352/352 [00:13<00:00, 25.93it/s]\n",
            "Evaluating: 100%|██████████| 40/40 [00:00<00:00, 75.57it/s]\n"
          ]
        },
        {
          "output_type": "stream",
          "name": "stdout",
          "text": [
            "Train Loss: 0.2653 | Train Acc: 90.08%\n",
            "Val Loss: 0.3904 | Val Acc: 83.98%\n",
            "\n",
            "Epoch 10/10\n",
            "--------------------\n"
          ]
        },
        {
          "output_type": "stream",
          "name": "stderr",
          "text": [
            "Training: 100%|██████████| 352/352 [00:12<00:00, 28.12it/s]\n",
            "Evaluating: 100%|██████████| 40/40 [00:00<00:00, 75.13it/s]"
          ]
        },
        {
          "output_type": "stream",
          "name": "stdout",
          "text": [
            "Train Loss: 0.2352 | Train Acc: 91.35%\n",
            "Val Loss: 0.3994 | Val Acc: 84.41%\n",
            "\n",
            "Training complete!\n"
          ]
        },
        {
          "output_type": "stream",
          "name": "stderr",
          "text": [
            "\n"
          ]
        }
      ],
      "source": [
        "n_epochs = 10\n",
        "\n",
        "# Lists to store metrics\n",
        "train_losses = []\n",
        "train_accs = []\n",
        "val_losses = []\n",
        "val_accs = []\n",
        "\n",
        "# Training loop\n",
        "for epoch in range(n_epochs):\n",
        "    print(f\"\\nEpoch {epoch+1}/{n_epochs}\")\n",
        "    print(\"-\" * 20)\n",
        "\n",
        "    # Train\n",
        "    train_loss, train_acc = train(model, train_loader, optimizer, criterion)\n",
        "    train_losses.append(train_loss)\n",
        "    train_accs.append(train_acc)\n",
        "\n",
        "    # Evaluate\n",
        "    val_loss, val_acc = evaluate(model, val_loader, criterion)\n",
        "    val_losses.append(val_loss)\n",
        "    val_accs.append(val_acc)\n",
        "\n",
        "    # Print metrics\n",
        "    print(f\"Train Loss: {train_loss:.4f} | Train Acc: {train_acc*100:.2f}%\")\n",
        "    print(f\"Val Loss: {val_loss:.4f} | Val Acc: {val_acc*100:.2f}%\")\n",
        "\n",
        "print(\"\\nTraining complete!\")"
      ]
    },
    {
      "cell_type": "code",
      "execution_count": 41,
      "id": "2ce6f786",
      "metadata": {
        "colab": {
          "base_uri": "https://localhost:8080/",
          "height": 507
        },
        "id": "2ce6f786",
        "outputId": "08cc16d7-8f1a-4a6b-80d5-0a5ebb5e3999"
      },
      "outputs": [
        {
          "output_type": "display_data",
          "data": {
            "text/plain": [
              "<Figure size 1200x500 with 2 Axes>"
            ],
            "image/png": "[encoded data removed]"
          },
          "metadata": {}
        }
      ],
      "source": [
        "plt.figure(figsize=(12, 5))\n",
        "\n",
        "# Plot loss\n",
        "plt.subplot(1, 2, 1)\n",
        "plt.plot(train_losses, label='Train Loss')\n",
        "plt.plot(val_losses, label='Val Loss')\n",
        "plt.xlabel('Epoch')\n",
        "plt.ylabel('Loss')\n",
        "plt.title('Training and Validation Loss')\n",
        "plt.legend()\n",
        "\n",
        "# Plot accuracy\n",
        "plt.subplot(1, 2, 2)\n",
        "plt.plot(train_accs, label='Train Acc')\n",
        "plt.plot(val_accs, label='Val Acc')\n",
        "plt.xlabel('Epoch')\n",
        "plt.ylabel('Accuracy')\n",
        "plt.title('Training and Validation Accuracy')\n",
        "plt.legend()\n",
        "\n",
        "plt.tight_layout()\n",
        "plt.show()\n"
      ]
    },
    {
      "cell_type": "code",
      "execution_count": 42,
      "id": "303abcdb",
      "metadata": {
        "colab": {
          "base_uri": "https://localhost:8080/"
        },
        "id": "303abcdb",
        "outputId": "681f724b-af6b-4a44-c280-e91992ce7fde"
      },
      "outputs": [
        {
          "output_type": "stream",
          "name": "stderr",
          "text": [
            "Evaluating: 100%|██████████| 391/391 [00:05<00:00, 73.89it/s]"
          ]
        },
        {
          "output_type": "stream",
          "name": "stdout",
          "text": [
            "Test Loss: 0.4313 | Test Acc: 83.25%\n"
          ]
        },
        {
          "output_type": "stream",
          "name": "stderr",
          "text": [
            "\n"
          ]
        }
      ],
      "source": [
        "test_loss, test_acc = evaluate(model, test_loader, criterion)\n",
        "print(f\"Test Loss: {test_loss:.4f} | Test Acc: {test_acc*100:.2f}%\")\n"
      ]
    },
    {
      "cell_type": "code",
      "execution_count": 43,
      "id": "16edbcdd",
      "metadata": {
        "colab": {
          "base_uri": "https://localhost:8080/"
        },
        "id": "16edbcdd",
        "outputId": "903dd38a-9272-451b-a6d6-10a0d9a85605"
      },
      "outputs": [
        {
          "output_type": "stream",
          "name": "stdout",
          "text": [
            "Model predictions on sample reviews:\n",
            "Review: This movie was absolutely amazing! The acting was ...\n",
            "Sentiment: Positive (probability: 0.9824)\n",
            "--------------------------------------------------\n",
            "Review: I was thoroughly disappointed with this film. The ...\n",
            "Sentiment: Negative (probability: 0.0371)\n",
            "--------------------------------------------------\n",
            "Review: It was okay. Nothing special but not terrible eith...\n",
            "Sentiment: Negative (probability: 0.0342)\n",
            "--------------------------------------------------\n",
            "Review: Despite some flaws in the plot, the movie had grea...\n",
            "Sentiment: Positive (probability: 0.6603)\n",
            "--------------------------------------------------\n"
          ]
        }
      ],
      "source": [
        "def predict_sentiment(model, text, vocab, max_len=200):\n",
        "    \"\"\"Predict sentiment for a single text input\"\"\"\n",
        "    # Preprocess\n",
        "    tokens = preprocess_text(text)\n",
        "    # Encode\n",
        "    encoded = encode_review(tokens, vocab, max_len)\n",
        "    # Convert to tensor\n",
        "    tensor = torch.tensor(encoded).unsqueeze(0).to(device)  # Add batch dimension\n",
        "\n",
        "    # Set model to evaluation mode\n",
        "    model.eval()\n",
        "\n",
        "    # Get prediction\n",
        "    with torch.no_grad():\n",
        "        prediction = torch.sigmoid(model(tensor).squeeze(1))\n",
        "\n",
        "    # Return probability and sentiment\n",
        "    probability = prediction.item()\n",
        "    sentiment = \"Positive\" if probability >= 0.5 else \"Negative\"\n",
        "\n",
        "    return probability, sentiment\n",
        "\n",
        "# Test on some examples\n",
        "sample_reviews = [\n",
        "    \"This movie was absolutely amazing! The acting was superb and the plot was engaging.\",\n",
        "    \"I was thoroughly disappointed with this film. The story made no sense and the acting was terrible.\",\n",
        "    \"It was okay. Nothing special but not terrible either.\",\n",
        "    \"Despite some flaws in the plot, the movie had great visual effects and good performances.\"\n",
        "]\n",
        "\n",
        "print(\"Model predictions on sample reviews:\")\n",
        "for review in sample_reviews:\n",
        "    prob, sent = predict_sentiment(model, review, vocab)\n",
        "    print(f\"Review: {review[:50]}...\")\n",
        "    print(f\"Sentiment: {sent} (probability: {prob:.4f})\")\n",
        "    print(\"-\" * 50)\n"
      ]
    },
    {
      "cell_type": "markdown",
      "source": [
        "# Model 2 with bidirectional"
      ],
      "metadata": {
        "id": "MTVVQJde4EmQ"
      },
      "id": "MTVVQJde4EmQ"
    },
    {
      "cell_type": "code",
      "source": [
        "# Initialize model\n",
        "embedding_dim = 100\n",
        "hidden_dim = 256\n",
        "output_dim = 1\n",
        "n_layers = 2\n",
        "\n",
        "model2 = SentimentLSTM(\n",
        "    vocab_size=vocab_size,\n",
        "    embedding_dim=embedding_dim,\n",
        "    hidden_dim=hidden_dim,\n",
        "    output_dim=output_dim,\n",
        "    n_layers=n_layers,\n",
        "    bidirectional=True\n",
        ")\n",
        "\n",
        "# Move model to GPU if available\n",
        "device = torch.device('cuda' if torch.cuda.is_available() else 'cpu')\n",
        "model2 = model2.to(device)\n",
        "print(f\"Model created and moved to {device}!\")\n",
        "print(model2)"
      ],
      "metadata": {
        "colab": {
          "base_uri": "https://localhost:8080/"
        },
        "id": "nAPB-gzW5cC8",
        "outputId": "2ebf4bb0-4cb8-4c74-8b23-ad331ea908d8"
      },
      "id": "nAPB-gzW5cC8",
      "execution_count": 65,
      "outputs": [
        {
          "output_type": "stream",
          "name": "stdout",
          "text": [
            "Model created and moved to cuda!\n",
            "SentimentLSTM(\n",
            "  (embedding): Embedding(10000, 100, padding_idx=0)\n",
            "  (lstm): LSTM(100, 256, num_layers=2, batch_first=True, dropout=0.5, bidirectional=True)\n",
            "  (dropout): Dropout(p=0.5, inplace=False)\n",
            "  (fc): Linear(in_features=512, out_features=1, bias=True)\n",
            ")\n"
          ]
        }
      ]
    },
    {
      "cell_type": "code",
      "source": [
        "# Binary Cross Entropy Loss\n",
        "criterion = nn.BCEWithLogitsLoss()\n",
        "\n",
        "# Adam optimizer\n",
        "optimizer = optim.Adam(model2.parameters(), lr=0.001)\n",
        "\n",
        "print(\"Loss function and optimizer defined!\")"
      ],
      "metadata": {
        "colab": {
          "base_uri": "https://localhost:8080/"
        },
        "id": "SsxxzgEI8Xc8",
        "outputId": "86f01fac-5926-4a69-8ce2-9323719733d3"
      },
      "id": "SsxxzgEI8Xc8",
      "execution_count": 66,
      "outputs": [
        {
          "output_type": "stream",
          "name": "stdout",
          "text": [
            "Loss function and optimizer defined!\n"
          ]
        }
      ]
    },
    {
      "cell_type": "code",
      "source": [
        "n_epochs = 10\n",
        "\n",
        "# Lists to store metrics\n",
        "train_losses = []\n",
        "train_accs = []\n",
        "val_losses = []\n",
        "val_accs = []\n",
        "\n",
        "# Training loop\n",
        "for epoch in range(n_epochs):\n",
        "    print(f\"\\nEpoch {epoch+1}/{n_epochs}\")\n",
        "    print(\"-\" * 20)\n",
        "\n",
        "    # Train\n",
        "    train_loss, train_acc = train(model2, train_loader, optimizer, criterion)\n",
        "    train_losses.append(train_loss)\n",
        "    train_accs.append(train_acc)\n",
        "\n",
        "    # Evaluate\n",
        "    val_loss, val_acc = evaluate(model2, val_loader, criterion)\n",
        "    val_losses.append(val_loss)\n",
        "    val_accs.append(val_acc)\n",
        "\n",
        "    # Print metrics\n",
        "    print(f\"Train Loss: {train_loss:.4f} | Train Acc: {train_acc*100:.2f}%\")\n",
        "    print(f\"Val Loss: {val_loss:.4f} | Val Acc: {val_acc*100:.2f}%\")\n",
        "\n",
        "print(\"\\nTraining complete!\")"
      ],
      "metadata": {
        "colab": {
          "base_uri": "https://localhost:8080/"
        },
        "id": "M3kHV_Z95jQ0",
        "outputId": "4c492cc8-fc48-4b86-9360-ce5d2066adcc"
      },
      "id": "M3kHV_Z95jQ0",
      "execution_count": 60,
      "outputs": [
        {
          "output_type": "stream",
          "name": "stdout",
          "text": [
            "\n",
            "Epoch 1/10\n",
            "--------------------\n"
          ]
        },
        {
          "output_type": "stream",
          "name": "stderr",
          "text": [
            "Training: 100%|██████████| 352/352 [00:28<00:00, 12.34it/s]\n",
            "Evaluating: 100%|██████████| 40/40 [00:01<00:00, 34.82it/s]\n"
          ]
        },
        {
          "output_type": "stream",
          "name": "stdout",
          "text": [
            "Train Loss: 0.6577 | Train Acc: 61.04%\n",
            "Val Loss: 0.6132 | Val Acc: 68.40%\n",
            "\n",
            "Epoch 2/10\n",
            "--------------------\n"
          ]
        },
        {
          "output_type": "stream",
          "name": "stderr",
          "text": [
            "Training: 100%|██████████| 352/352 [00:28<00:00, 12.36it/s]\n",
            "Evaluating: 100%|██████████| 40/40 [00:01<00:00, 35.29it/s]\n"
          ]
        },
        {
          "output_type": "stream",
          "name": "stdout",
          "text": [
            "Train Loss: 0.5901 | Train Acc: 69.29%\n",
            "Val Loss: 0.5618 | Val Acc: 71.99%\n",
            "\n",
            "Epoch 3/10\n",
            "--------------------\n"
          ]
        },
        {
          "output_type": "stream",
          "name": "stderr",
          "text": [
            "Training: 100%|██████████| 352/352 [00:28<00:00, 12.37it/s]\n",
            "Evaluating: 100%|██████████| 40/40 [00:01<00:00, 34.85it/s]\n"
          ]
        },
        {
          "output_type": "stream",
          "name": "stdout",
          "text": [
            "Train Loss: 0.4688 | Train Acc: 78.19%\n",
            "Val Loss: 0.4121 | Val Acc: 82.62%\n",
            "\n",
            "Epoch 4/10\n",
            "--------------------\n"
          ]
        },
        {
          "output_type": "stream",
          "name": "stderr",
          "text": [
            "Training: 100%|██████████| 352/352 [00:28<00:00, 12.37it/s]\n",
            "Evaluating: 100%|██████████| 40/40 [00:01<00:00, 34.95it/s]\n"
          ]
        },
        {
          "output_type": "stream",
          "name": "stdout",
          "text": [
            "Train Loss: 0.3553 | Train Acc: 85.23%\n",
            "Val Loss: 0.3848 | Val Acc: 82.07%\n",
            "\n",
            "Epoch 5/10\n",
            "--------------------\n"
          ]
        },
        {
          "output_type": "stream",
          "name": "stderr",
          "text": [
            "Training: 100%|██████████| 352/352 [00:28<00:00, 12.38it/s]\n",
            "Evaluating: 100%|██████████| 40/40 [00:01<00:00, 34.86it/s]\n"
          ]
        },
        {
          "output_type": "stream",
          "name": "stdout",
          "text": [
            "Train Loss: 0.2820 | Train Acc: 88.76%\n",
            "Val Loss: 0.3790 | Val Acc: 84.84%\n",
            "\n",
            "Epoch 6/10\n",
            "--------------------\n"
          ]
        },
        {
          "output_type": "stream",
          "name": "stderr",
          "text": [
            "Training: 100%|██████████| 352/352 [00:28<00:00, 12.37it/s]\n",
            "Evaluating: 100%|██████████| 40/40 [00:01<00:00, 35.18it/s]\n"
          ]
        },
        {
          "output_type": "stream",
          "name": "stdout",
          "text": [
            "Train Loss: 0.2356 | Train Acc: 91.06%\n",
            "Val Loss: 0.3615 | Val Acc: 84.73%\n",
            "\n",
            "Epoch 7/10\n",
            "--------------------\n"
          ]
        },
        {
          "output_type": "stream",
          "name": "stderr",
          "text": [
            "Training: 100%|██████████| 352/352 [00:28<00:00, 12.36it/s]\n",
            "Evaluating: 100%|██████████| 40/40 [00:01<00:00, 35.64it/s]\n"
          ]
        },
        {
          "output_type": "stream",
          "name": "stdout",
          "text": [
            "Train Loss: 0.1942 | Train Acc: 92.79%\n",
            "Val Loss: 0.3755 | Val Acc: 85.62%\n",
            "\n",
            "Epoch 8/10\n",
            "--------------------\n"
          ]
        },
        {
          "output_type": "stream",
          "name": "stderr",
          "text": [
            "Training: 100%|██████████| 352/352 [00:28<00:00, 12.39it/s]\n",
            "Evaluating: 100%|██████████| 40/40 [00:01<00:00, 35.71it/s]\n"
          ]
        },
        {
          "output_type": "stream",
          "name": "stdout",
          "text": [
            "Train Loss: 0.1578 | Train Acc: 94.26%\n",
            "Val Loss: 0.4191 | Val Acc: 85.27%\n",
            "\n",
            "Epoch 9/10\n",
            "--------------------\n"
          ]
        },
        {
          "output_type": "stream",
          "name": "stderr",
          "text": [
            "Training: 100%|██████████| 352/352 [00:28<00:00, 12.48it/s]\n",
            "Evaluating: 100%|██████████| 40/40 [00:01<00:00, 35.77it/s]\n"
          ]
        },
        {
          "output_type": "stream",
          "name": "stdout",
          "text": [
            "Train Loss: 0.1181 | Train Acc: 95.86%\n",
            "Val Loss: 0.4694 | Val Acc: 85.35%\n",
            "\n",
            "Epoch 10/10\n",
            "--------------------\n"
          ]
        },
        {
          "output_type": "stream",
          "name": "stderr",
          "text": [
            "Training: 100%|██████████| 352/352 [00:28<00:00, 12.54it/s]\n",
            "Evaluating: 100%|██████████| 40/40 [00:01<00:00, 35.94it/s]"
          ]
        },
        {
          "output_type": "stream",
          "name": "stdout",
          "text": [
            "Train Loss: 0.0845 | Train Acc: 97.06%\n",
            "Val Loss: 0.4908 | Val Acc: 84.88%\n",
            "\n",
            "Training complete!\n"
          ]
        },
        {
          "output_type": "stream",
          "name": "stderr",
          "text": [
            "\n"
          ]
        }
      ]
    },
    {
      "cell_type": "code",
      "source": [
        "plt.figure(figsize=(12, 5))\n",
        "\n",
        "# Plot loss\n",
        "plt.subplot(1, 2, 1)\n",
        "plt.plot(train_losses, label='Train Loss')\n",
        "plt.plot(val_losses, label='Val Loss')\n",
        "plt.xlabel('Epoch')\n",
        "plt.ylabel('Loss')\n",
        "plt.title('Training and Validation Loss')\n",
        "plt.legend()\n",
        "\n",
        "# Plot accuracy\n",
        "plt.subplot(1, 2, 2)\n",
        "plt.plot(train_accs, label='Train Acc')\n",
        "plt.plot(val_accs, label='Val Acc')\n",
        "plt.xlabel('Epoch')\n",
        "plt.ylabel('Accuracy')\n",
        "plt.title('Training and Validation Accuracy')\n",
        "plt.legend()\n",
        "\n",
        "plt.tight_layout()\n",
        "plt.show()\n"
      ],
      "metadata": {
        "colab": {
          "base_uri": "https://localhost:8080/",
          "height": 507
        },
        "id": "QT8n-G6O66Zn",
        "outputId": "cd432686-2e9b-4346-bdc5-93d68d0d70de"
      },
      "id": "QT8n-G6O66Zn",
      "execution_count": 61,
      "outputs": [
        {
          "output_type": "display_data",
          "data": {
            "text/plain": [
              "<Figure size 1200x500 with 2 Axes>"
            ],
            "image/png": "[encoded data removed]"
          },
          "metadata": {}
        }
      ]
    },
    {
      "cell_type": "code",
      "source": [
        "test_loss, test_acc = evaluate(model2, test_loader, criterion)\n",
        "print(f\"Test Loss: {test_loss:.4f} | Test Acc: {test_acc*100:.2f}%\")\n"
      ],
      "metadata": {
        "colab": {
          "base_uri": "https://localhost:8080/"
        },
        "id": "kcRbdkU06-DN",
        "outputId": "566af674-28bf-4752-a70d-8c4a74ceb360"
      },
      "id": "kcRbdkU06-DN",
      "execution_count": 63,
      "outputs": [
        {
          "output_type": "stream",
          "name": "stderr",
          "text": [
            "Evaluating: 100%|██████████| 391/391 [00:11<00:00, 33.69it/s]"
          ]
        },
        {
          "output_type": "stream",
          "name": "stdout",
          "text": [
            "Test Loss: 0.5428 | Test Acc: 83.94%\n"
          ]
        },
        {
          "output_type": "stream",
          "name": "stderr",
          "text": [
            "\n"
          ]
        }
      ]
    },
    {
      "cell_type": "code",
      "source": [
        "def predict_sentiment(model, text, vocab, max_len=200):\n",
        "    \"\"\"Predict sentiment for a single text input\"\"\"\n",
        "    # Preprocess\n",
        "    tokens = preprocess_text(text)\n",
        "    # Encode\n",
        "    encoded = encode_review(tokens, vocab, max_len)\n",
        "    # Convert to tensor\n",
        "    tensor = torch.tensor(encoded).unsqueeze(0).to(device)  # Add batch dimension\n",
        "\n",
        "    # Set model to evaluation mode\n",
        "    model2.eval()\n",
        "\n",
        "    # Get prediction\n",
        "    with torch.no_grad():\n",
        "        prediction = torch.sigmoid(model(tensor).squeeze(1))\n",
        "\n",
        "    # Return probability and sentiment\n",
        "    probability = prediction.item()\n",
        "    sentiment = \"Positive\" if probability >= 0.5 else \"Negative\"\n",
        "\n",
        "    return probability, sentiment\n",
        "\n",
        "# Test on some examples\n",
        "sample_reviews = [\n",
        "    \"This movie was absolutely amazing! The acting was superb and the plot was engaging.\",\n",
        "    \"I was thoroughly disappointed with this film. The story made no sense and the acting was terrible.\",\n",
        "    \"It was okay. Nothing special but not terrible either.\",\n",
        "    \"Despite some flaws in the plot, the movie had great visual effects and good performances.\"\n",
        "]\n",
        "\n",
        "print(\"Model predictions on sample reviews:\")\n",
        "for review in sample_reviews:\n",
        "    prob, sent = predict_sentiment(model2, review, vocab)\n",
        "    print(f\"Review: {review[:50]}...\")\n",
        "    print(f\"Sentiment: {sent} (probability: {prob:.4f})\")\n",
        "    print(\"-\" * 50)\n"
      ],
      "metadata": {
        "colab": {
          "base_uri": "https://localhost:8080/"
        },
        "id": "uI6XUhS37BB5",
        "outputId": "6c45f766-47b8-4bd7-85a9-99dfac26bf8e"
      },
      "id": "uI6XUhS37BB5",
      "execution_count": 64,
      "outputs": [
        {
          "output_type": "stream",
          "name": "stdout",
          "text": [
            "Model predictions on sample reviews:\n",
            "Review: This movie was absolutely amazing! The acting was ...\n",
            "Sentiment: Positive (probability: 0.9992)\n",
            "--------------------------------------------------\n",
            "Review: I was thoroughly disappointed with this film. The ...\n",
            "Sentiment: Negative (probability: 0.0043)\n",
            "--------------------------------------------------\n",
            "Review: It was okay. Nothing special but not terrible eith...\n",
            "Sentiment: Negative (probability: 0.0843)\n",
            "--------------------------------------------------\n",
            "Review: Despite some flaws in the plot, the movie had grea...\n",
            "Sentiment: Negative (probability: 0.0515)\n",
            "--------------------------------------------------\n"
          ]
        }
      ]
    },
    {
      "cell_type": "markdown",
      "source": [
        "# from the result the bidirectional model start to overfit as the data not large but nearlly go to same accurcy of model 1 but in only 5 ebochs lets try the model 2 again with 5 ebochs"
      ],
      "metadata": {
        "id": "T8HTNm7S-_2K"
      },
      "id": "T8HTNm7S-_2K"
    },
    {
      "cell_type": "code",
      "source": [
        "n_epochs = 5\n",
        "\n",
        "# Lists to store metrics\n",
        "train_losses = []\n",
        "train_accs = []\n",
        "val_losses = []\n",
        "val_accs = []\n",
        "\n",
        "# Training loop\n",
        "for epoch in range(n_epochs):\n",
        "    print(f\"\\nEpoch {epoch+1}/{n_epochs}\")\n",
        "    print(\"-\" * 20)\n",
        "\n",
        "    # Train\n",
        "    train_loss, train_acc = train(model2, train_loader, optimizer, criterion)\n",
        "    train_losses.append(train_loss)\n",
        "    train_accs.append(train_acc)\n",
        "\n",
        "    # Evaluate\n",
        "    val_loss, val_acc = evaluate(model2, val_loader, criterion)\n",
        "    val_losses.append(val_loss)\n",
        "    val_accs.append(val_acc)\n",
        "\n",
        "    # Print metrics\n",
        "    print(f\"Train Loss: {train_loss:.4f} | Train Acc: {train_acc*100:.2f}%\")\n",
        "    print(f\"Val Loss: {val_loss:.4f} | Val Acc: {val_acc*100:.2f}%\")\n",
        "\n",
        "print(\"\\nTraining complete!\")"
      ],
      "metadata": {
        "colab": {
          "base_uri": "https://localhost:8080/"
        },
        "id": "vNLI0pgu7Cwl",
        "outputId": "4b5eeea1-706b-45df-ca4e-b50d4741f61b"
      },
      "id": "vNLI0pgu7Cwl",
      "execution_count": 67,
      "outputs": [
        {
          "output_type": "stream",
          "name": "stdout",
          "text": [
            "\n",
            "Epoch 1/5\n",
            "--------------------\n"
          ]
        },
        {
          "output_type": "stream",
          "name": "stderr",
          "text": [
            "Training: 100%|██████████| 352/352 [00:25<00:00, 13.65it/s]\n",
            "Evaluating: 100%|██████████| 40/40 [00:01<00:00, 36.62it/s]\n"
          ]
        },
        {
          "output_type": "stream",
          "name": "stdout",
          "text": [
            "Train Loss: 0.6856 | Train Acc: 54.04%\n",
            "Val Loss: 0.6888 | Val Acc: 52.89%\n",
            "\n",
            "Epoch 2/5\n",
            "--------------------\n"
          ]
        },
        {
          "output_type": "stream",
          "name": "stderr",
          "text": [
            "Training: 100%|██████████| 352/352 [00:26<00:00, 13.41it/s]\n",
            "Evaluating: 100%|██████████| 40/40 [00:01<00:00, 37.24it/s]\n"
          ]
        },
        {
          "output_type": "stream",
          "name": "stdout",
          "text": [
            "Train Loss: 0.6882 | Train Acc: 53.86%\n",
            "Val Loss: 0.6756 | Val Acc: 57.66%\n",
            "\n",
            "Epoch 3/5\n",
            "--------------------\n"
          ]
        },
        {
          "output_type": "stream",
          "name": "stderr",
          "text": [
            "Training: 100%|██████████| 352/352 [00:27<00:00, 12.65it/s]\n",
            "Evaluating: 100%|██████████| 40/40 [00:01<00:00, 35.87it/s]\n"
          ]
        },
        {
          "output_type": "stream",
          "name": "stdout",
          "text": [
            "Train Loss: 0.5875 | Train Acc: 68.70%\n",
            "Val Loss: 0.5045 | Val Acc: 76.95%\n",
            "\n",
            "Epoch 4/5\n",
            "--------------------\n"
          ]
        },
        {
          "output_type": "stream",
          "name": "stderr",
          "text": [
            "Training: 100%|██████████| 352/352 [00:28<00:00, 12.36it/s]\n",
            "Evaluating: 100%|██████████| 40/40 [00:01<00:00, 34.55it/s]\n"
          ]
        },
        {
          "output_type": "stream",
          "name": "stdout",
          "text": [
            "Train Loss: 0.3958 | Train Acc: 82.81%\n",
            "Val Loss: 0.3953 | Val Acc: 83.24%\n",
            "\n",
            "Epoch 5/5\n",
            "--------------------\n"
          ]
        },
        {
          "output_type": "stream",
          "name": "stderr",
          "text": [
            "Training: 100%|██████████| 352/352 [00:28<00:00, 12.38it/s]\n",
            "Evaluating: 100%|██████████| 40/40 [00:01<00:00, 35.09it/s]"
          ]
        },
        {
          "output_type": "stream",
          "name": "stdout",
          "text": [
            "Train Loss: 0.3030 | Train Acc: 87.76%\n",
            "Val Loss: 0.3588 | Val Acc: 84.77%\n",
            "\n",
            "Training complete!\n"
          ]
        },
        {
          "output_type": "stream",
          "name": "stderr",
          "text": [
            "\n"
          ]
        }
      ]
    },
    {
      "cell_type": "code",
      "source": [
        "plt.figure(figsize=(12, 5))\n",
        "\n",
        "# Plot loss\n",
        "plt.subplot(1, 2, 1)\n",
        "plt.plot(train_losses, label='Train Loss')\n",
        "plt.plot(val_losses, label='Val Loss')\n",
        "plt.xlabel('Epoch')\n",
        "plt.ylabel('Loss')\n",
        "plt.title('Training and Validation Loss')\n",
        "plt.legend()\n",
        "\n",
        "# Plot accuracy\n",
        "plt.subplot(1, 2, 2)\n",
        "plt.plot(train_accs, label='Train Acc')\n",
        "plt.plot(val_accs, label='Val Acc')\n",
        "plt.xlabel('Epoch')\n",
        "plt.ylabel('Accuracy')\n",
        "plt.title('Training and Validation Accuracy')\n",
        "plt.legend()\n",
        "\n",
        "plt.tight_layout()\n",
        "plt.show()\n"
      ],
      "metadata": {
        "colab": {
          "base_uri": "https://localhost:8080/",
          "height": 507
        },
        "id": "Q_JO9abv_85c",
        "outputId": "fe4e34b8-3f91-48aa-f6db-ab828875b07e"
      },
      "id": "Q_JO9abv_85c",
      "execution_count": 68,
      "outputs": [
        {
          "output_type": "display_data",
          "data": {
            "text/plain": [
              "<Figure size 1200x500 with 2 Axes>"
            ],
            "image/png": "[encoded data removed]"
          },
          "metadata": {}
        }
      ]
    },
    {
      "cell_type": "code",
      "source": [
        "test_loss, test_acc = evaluate(model2, test_loader, criterion)\n",
        "print(f\"Test Loss: {test_loss:.4f} | Test Acc: {test_acc*100:.2f}%\")\n"
      ],
      "metadata": {
        "colab": {
          "base_uri": "https://localhost:8080/"
        },
        "id": "cvk5E2QW__ki",
        "outputId": "32d43a89-fe82-48cf-c11d-395d1eb90bd3"
      },
      "id": "cvk5E2QW__ki",
      "execution_count": 69,
      "outputs": [
        {
          "output_type": "stream",
          "name": "stderr",
          "text": [
            "Evaluating: 100%|██████████| 391/391 [00:11<00:00, 34.86it/s]"
          ]
        },
        {
          "output_type": "stream",
          "name": "stdout",
          "text": [
            "Test Loss: 0.3737 | Test Acc: 83.34%\n"
          ]
        },
        {
          "output_type": "stream",
          "name": "stderr",
          "text": [
            "\n"
          ]
        }
      ]
    },
    {
      "cell_type": "code",
      "source": [
        "def predict_sentiment(model, text, vocab, max_len=200):\n",
        "    \"\"\"Predict sentiment for a single text input\"\"\"\n",
        "    # Preprocess\n",
        "    tokens = preprocess_text(text)\n",
        "    # Encode\n",
        "    encoded = encode_review(tokens, vocab, max_len)\n",
        "    # Convert to tensor\n",
        "    tensor = torch.tensor(encoded).unsqueeze(0).to(device)  # Add batch dimension\n",
        "\n",
        "    # Set model to evaluation mode\n",
        "    model2.eval()\n",
        "\n",
        "    # Get prediction\n",
        "    with torch.no_grad():\n",
        "        prediction = torch.sigmoid(model(tensor).squeeze(1))\n",
        "\n",
        "    # Return probability and sentiment\n",
        "    probability = prediction.item()\n",
        "    sentiment = \"Positive\" if probability >= 0.5 else \"Negative\"\n",
        "\n",
        "    return probability, sentiment\n",
        "\n",
        "# Test on some examples\n",
        "sample_reviews = [\n",
        "    \"This movie was absolutely amazing! The acting was superb and the plot was engaging.\",\n",
        "    \"I was thoroughly disappointed with this film. The story made no sense and the acting was terrible.\",\n",
        "    \"It was okay. Nothing special but not terrible either.\",\n",
        "    \"Despite some flaws in the plot, the movie had great visual effects and good performances.\"\n",
        "]\n",
        "\n",
        "print(\"Model predictions on sample reviews:\")\n",
        "for review in sample_reviews:\n",
        "    prob, sent = predict_sentiment(model2, review, vocab)\n",
        "    print(f\"Review: {review[:50]}...\")\n",
        "    print(f\"Sentiment: {sent} (probability: {prob:.4f})\")\n",
        "    print(\"-\" * 50)\n"
      ],
      "metadata": {
        "colab": {
          "base_uri": "https://localhost:8080/"
        },
        "id": "fICzVGpnACLI",
        "outputId": "ccfd5a25-af63-435d-87b0-6174602b9bdc"
      },
      "id": "fICzVGpnACLI",
      "execution_count": 70,
      "outputs": [
        {
          "output_type": "stream",
          "name": "stdout",
          "text": [
            "Model predictions on sample reviews:\n",
            "Review: This movie was absolutely amazing! The acting was ...\n",
            "Sentiment: Positive (probability: 0.9166)\n",
            "--------------------------------------------------\n",
            "Review: I was thoroughly disappointed with this film. The ...\n",
            "Sentiment: Negative (probability: 0.0512)\n",
            "--------------------------------------------------\n",
            "Review: It was okay. Nothing special but not terrible eith...\n",
            "Sentiment: Negative (probability: 0.0735)\n",
            "--------------------------------------------------\n",
            "Review: Despite some flaws in the plot, the movie had grea...\n",
            "Sentiment: Positive (probability: 0.6210)\n",
            "--------------------------------------------------\n"
          ]
        }
      ]
    },
    {
      "cell_type": "markdown",
      "source": [
        "# now model become more accurate in test as no overfit happened"
      ],
      "metadata": {
        "id": "CWvOiOStAmkq"
      },
      "id": "CWvOiOStAmkq"
    },
    {
      "cell_type": "code",
      "execution_count": null,
      "id": "f3261e5c",
      "metadata": {
        "id": "f3261e5c",
        "outputId": "eab185f1-b7e5-4306-d0a6-398b16b99b7a"
      },
      "outputs": [
        {
          "name": "stdout",
          "output_type": "stream",
          "text": [
            "Model saved successfully!\n"
          ]
        }
      ],
      "source": [
        "# Save model\n",
        "torch.save({\n",
        "    'model_state_dict': model.state_dict(),\n",
        "    'vocab': vocab,\n",
        "    'model_params': {\n",
        "        'vocab_size': vocab_size,\n",
        "        'embedding_dim': embedding_dim,\n",
        "        'hidden_dim': hidden_dim,\n",
        "        'output_dim': output_dim,\n",
        "        'n_layers': n_layers\n",
        "    }\n",
        "}, 'lstm_sentiment_model.pt')\n",
        "\n",
        "print(\"Model saved successfully!\")"
      ]
    },
    {
      "cell_type": "markdown",
      "id": "68a449c4",
      "metadata": {
        "id": "68a449c4"
      },
      "source": [
        "Task :\n",
        "1. train a 1/3 layered network and compare the results\n",
        "2. change the task from many to one to many to many tasK"
      ]
    },
    {
      "cell_type": "markdown",
      "id": "ba72258c",
      "metadata": {
        "id": "ba72258c"
      },
      "source": []
    }
  ],
  "metadata": {
    "kernelspec": {
      "display_name": "Python 3",
      "name": "python3"
    },
    "language_info": {
      "codemirror_mode": {
        "name": "ipython",
        "version": 3
      },
      "file_extension": ".py",
      "mimetype": "text/x-python",
      "name": "python",
      "nbconvert_exporter": "python",
      "pygments_lexer": "ipython3",
      "version": "3.12.4"
    },
    "colab": {
      "provenance": [],
      "gpuType": "T4",
      "include_colab_link": true
    },
    "accelerator": "GPU"
  },
  "nbformat": 4,
  "nbformat_minor": 5
}